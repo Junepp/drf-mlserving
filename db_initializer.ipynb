{
 "cells": [
  {
   "cell_type": "code",
   "execution_count": 15,
   "metadata": {
    "collapsed": true,
    "pycharm": {
     "name": "#%%\n"
    }
   },
   "outputs": [],
   "source": [
    "import psycopg2\n",
    "\n",
    "con = psycopg2.connect(host='localhost',\n",
    "                       dbname='kfashion',\n",
    "                       port=5432,\n",
    "                       user='postgres',\n",
    "                       password='151201'\n",
    "                       )"
   ]
  },
  {
   "cell_type": "code",
   "execution_count": 34,
   "outputs": [],
   "source": [
    "class QueryExecutor:\n",
    "\n",
    "    def __init__(self, con):\n",
    "        self.con = con\n",
    "        self.cursor = con.cursor()\n",
    "\n",
    "    def __del__(self):\n",
    "        self.cursor.close()\n",
    "        self.con.close()\n",
    "\n",
    "    def execute(self, query):\n",
    "        self.cursor.execute(query)\n",
    "\n",
    "    def commit(self):\n",
    "        self.con.commit()\n",
    "\n",
    "    def insert(self):\n",
    "        query = ''\n",
    "\n",
    "        self.execute(query)\n",
    "\n",
    "    def make_table(self):\n",
    "        query = 'CREATE TABLE RECOMMENDS ('\n",
    "        query += 'ITEM_IDX SERIAL PRIMARY KEY,'\n",
    "        query += 'SHOP_NAME VARCHAR(20),'\n",
    "        query += 'ITEM_NAME VARCHAR(100),'\n",
    "        query += 'ITEM_PRICE INTEGER,'\n",
    "        query += 'FILE_NAME VARCHAR(20),'\n",
    "        query += 'ITEM_URL VARCHAR(300),'\n",
    "        query += 'ITEM_CLASS INTEGER)'\n",
    "\n",
    "        self.execute(query)"
   ],
   "metadata": {
    "collapsed": false,
    "pycharm": {
     "name": "#%%\n"
    }
   }
  },
  {
   "cell_type": "code",
   "execution_count": 39,
   "outputs": [],
   "source": [
    "exe_instance = QueryExecutor(con=con)"
   ],
   "metadata": {
    "collapsed": false,
    "pycharm": {
     "name": "#%%\n"
    }
   }
  },
  {
   "cell_type": "code",
   "execution_count": 42,
   "outputs": [
    {
     "ename": "DuplicateTable",
     "evalue": "오류:  \"recommends\" 이름의 릴레이션(relation)이 이미 있습니다\n",
     "output_type": "error",
     "traceback": [
      "\u001B[1;31m---------------------------------------------------------------------------\u001B[0m",
      "\u001B[1;31mDuplicateTable\u001B[0m                            Traceback (most recent call last)",
      "Cell \u001B[1;32mIn [42], line 1\u001B[0m\n\u001B[1;32m----> 1\u001B[0m \u001B[43mexe_instance\u001B[49m\u001B[38;5;241;43m.\u001B[39;49m\u001B[43mmake_table\u001B[49m\u001B[43m(\u001B[49m\u001B[43m)\u001B[49m\n",
      "Cell \u001B[1;32mIn [34], line 27\u001B[0m, in \u001B[0;36mQueryExecutor.make_table\u001B[1;34m(self)\u001B[0m\n\u001B[0;32m     24\u001B[0m query \u001B[38;5;241m+\u001B[39m\u001B[38;5;241m=\u001B[39m \u001B[38;5;124m'\u001B[39m\u001B[38;5;124mITEM_URL VARCHAR(300),\u001B[39m\u001B[38;5;124m'\u001B[39m\n\u001B[0;32m     25\u001B[0m query \u001B[38;5;241m+\u001B[39m\u001B[38;5;241m=\u001B[39m \u001B[38;5;124m'\u001B[39m\u001B[38;5;124mITEM_CLASS INTEGER)\u001B[39m\u001B[38;5;124m'\u001B[39m\n\u001B[1;32m---> 27\u001B[0m \u001B[38;5;28;43mself\u001B[39;49m\u001B[38;5;241;43m.\u001B[39;49m\u001B[43mexecute\u001B[49m\u001B[43m(\u001B[49m\u001B[43mquery\u001B[49m\u001B[43m)\u001B[49m\n",
      "Cell \u001B[1;32mIn [34], line 12\u001B[0m, in \u001B[0;36mQueryExecutor.execute\u001B[1;34m(self, query)\u001B[0m\n\u001B[0;32m     11\u001B[0m \u001B[38;5;28;01mdef\u001B[39;00m \u001B[38;5;21mexecute\u001B[39m(\u001B[38;5;28mself\u001B[39m, query):\n\u001B[1;32m---> 12\u001B[0m     \u001B[38;5;28;43mself\u001B[39;49m\u001B[38;5;241;43m.\u001B[39;49m\u001B[43mcursor\u001B[49m\u001B[38;5;241;43m.\u001B[39;49m\u001B[43mexecute\u001B[49m\u001B[43m(\u001B[49m\u001B[43mquery\u001B[49m\u001B[43m)\u001B[49m\n",
      "\u001B[1;31mDuplicateTable\u001B[0m: 오류:  \"recommends\" 이름의 릴레이션(relation)이 이미 있습니다\n"
     ]
    }
   ],
   "source": [
    "exe_instance.make_table()"
   ],
   "metadata": {
    "collapsed": false,
    "pycharm": {
     "name": "#%%\n"
    }
   }
  },
  {
   "cell_type": "code",
   "execution_count": 43,
   "outputs": [],
   "source": [
    "exe_instance.commit()"
   ],
   "metadata": {
    "collapsed": false,
    "pycharm": {
     "name": "#%%\n"
    }
   }
  }
 ],
 "metadata": {
  "kernelspec": {
   "display_name": "Python 3",
   "language": "python",
   "name": "python3"
  },
  "language_info": {
   "codemirror_mode": {
    "name": "ipython",
    "version": 2
   },
   "file_extension": ".py",
   "mimetype": "text/x-python",
   "name": "python",
   "nbconvert_exporter": "python",
   "pygments_lexer": "ipython2",
   "version": "2.7.6"
  }
 },
 "nbformat": 4,
 "nbformat_minor": 0
}