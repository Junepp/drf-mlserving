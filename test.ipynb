{
 "cells": [
  {
   "cell_type": "code",
   "execution_count": 1,
   "outputs": [
    {
     "name": "stdout",
     "output_type": "stream",
     "text": [
      "connect\n"
     ]
    }
   ],
   "source": [
    "print('connect')"
   ],
   "metadata": {
    "collapsed": false
   }
  },
  {
   "cell_type": "code",
   "execution_count": 8,
   "outputs": [],
   "source": [
    "import requests\n",
    "\n",
    "url = 'http://127.0.0.1:8000/image/'\n",
    "\n",
    "files = {'image': open('media/recommend_image/spao1.jpg', 'rb')}\n",
    "\n",
    "response = requests.get(url, files=files)"
   ],
   "metadata": {
    "collapsed": false,
    "pycharm": {
     "name": "#%%\n"
    }
   }
  },
  {
   "cell_type": "code",
   "execution_count": 44,
   "outputs": [
    {
     "name": "stdout",
     "output_type": "stream",
     "text": [
      "200\n",
      "b'\"done, class \\xed\\x8a\\xb8\\xeb\\xa0\\x88\\xeb\\x94\\x94\\xec\\x85\\x94\\xeb\\x84\\x90 maybe..\"'\n"
     ]
    }
   ],
   "source": [
    "print(response.status_code)\n",
    "print(response.content)"
   ],
   "metadata": {
    "collapsed": false
   }
  },
  {
   "cell_type": "code",
   "execution_count": 18,
   "outputs": [],
   "source": [
    "# import os\n",
    "# import requests\n",
    "#\n",
    "# url = 'http://127.0.0.1:8000/image/'\n",
    "# root_path = 'media/recommend_image'\n",
    "#\n",
    "# for file_name in os.listdir(root_path)[100:200]:\n",
    "#     file_path = os.path.join(root_path, file_name)\n",
    "#     img = open(file_path, 'rb')\n",
    "#\n",
    "#     files = {'image': img}\n",
    "#\n",
    "#     response = requests.get(url, files=files)"
   ],
   "metadata": {
    "collapsed": false,
    "pycharm": {
     "name": "#%%\n"
    }
   }
  },
  {
   "cell_type": "markdown",
   "source": [
    "## Initialize Recommaend Meta Database"
   ],
   "metadata": {
    "collapsed": false,
    "pycharm": {
     "name": "#%% md\n"
    }
   }
  },
  {
   "cell_type": "code",
   "execution_count": 2,
   "outputs": [
    {
     "data": {
      "text/plain": "<IPython.core.display.HTML object>",
      "text/html": "\n        <style>\n            .support_message_main_box {\n                position: relative;\n                display: table-cell;\n                vertical-align: middle;\n                width: 100%;\n                height: 8em;\n                padding: 1em;\n                padding-left: 11em;\n                background-color: #f7f7f7;\n                border: 1px solid #cfcfcf;\n                border-radius: 2px;\n            }\n            .support_message_main_box img {\n                position: absolute;\n                height: 9em;\n                width: 9em;\n                left: 0.5em;\n                top: 0.5em;\n                border-radius: 1em;\n            }\n        </style>\n        <div class=\"support_message_main_box\">\n            <img src=\"https://avatars.githubusercontent.com/u/7738570?v=4\" />\n            <p>\n            <b>Hi!</b><br/>\n            <span>I am the author of\n            <a href=\"https://github.com/LucaCappelletti94/silence_tensorflow\" target=\"_blank\">\n                silence_tensorflow\n            </a>, which you use in this Notebook.\n            </span><br/>\n            \n            <span>I love to code, but I also need coffee.</span>\n            <a href=\"https://github.com/sponsors/LucaCappelletti94\" target=\"_blank\">\n                Please sponsor me on GitHub ❤️\n            </a><br/>\n            <i>Good luck in your coding 🍀!</i>\n            <br/>\n            <i>- Luca</i>\n            </p>\n        <div>\n        "
     },
     "metadata": {},
     "output_type": "display_data"
    }
   ],
   "source": [
    "import os\n",
    "import cv2\n",
    "import numpy as np\n",
    "import pandas as pd\n",
    "import PIL.Image\n",
    "from ml_sources import executors"
   ],
   "metadata": {
    "collapsed": false,
    "pycharm": {
     "name": "#%%\n"
    }
   }
  },
  {
   "cell_type": "code",
   "execution_count": 3,
   "outputs": [],
   "source": [
    "device = 'cpu'\n",
    "\n",
    "executor_segmentation = executors.SegmentationExecutor(device=device)\n",
    "executor_classification = executors.ClassificationExecutor(device=device)\n",
    "executor_extract = executors.ExtractExecutor(device=device)"
   ],
   "metadata": {
    "collapsed": false,
    "pycharm": {
     "name": "#%%\n"
    }
   }
  },
  {
   "cell_type": "code",
   "execution_count": 9,
   "outputs": [
    {
     "data": {
      "text/plain": "  쇼핑몰 이름 카테고리                        상품명      가격  \\\n0   spao  아우터        크롭 봄버 점퍼_SPJJB49G91  59,900   \n1   spao  아우터      틸든 케이블 가디건_SPCKB49G31  39,900   \n2   spao  아우터      골지 루즈핏 가디건_SPCKB49W01  39,900   \n3   spao  아우터  소프트 하찌 오버핏 베스트_SPKVB49W02  35,900   \n4   spao  아우터     브이넥 스웨터 베스트_SPKVB49W01  29,900   \n\n                                                상품주소      파일 이름  class  \\\n0  http://www.spao.com/product/크롭-봄버-점퍼spjjb49g91...  spao1.jpg    NaN   \n1  http://www.spao.com/product/틸든-케이블-가디건spckb49g...  spao2.jpg    NaN   \n2  http://www.spao.com/product/포우먼-골지-루즈핏-가디건spck...  spao3.jpg    NaN   \n3  http://www.spao.com/product/포우먼-소프트-하찌-오버핏-베스트...  spao4.jpg    NaN   \n4  http://www.spao.com/product/포우먼-브이넥-스웨터-베스트spk...  spao5.jpg    NaN   \n\n   feature  \n0      NaN  \n1      NaN  \n2      NaN  \n3      NaN  \n4      NaN  ",
      "text/html": "<div>\n<style scoped>\n    .dataframe tbody tr th:only-of-type {\n        vertical-align: middle;\n    }\n\n    .dataframe tbody tr th {\n        vertical-align: top;\n    }\n\n    .dataframe thead th {\n        text-align: right;\n    }\n</style>\n<table border=\"1\" class=\"dataframe\">\n  <thead>\n    <tr style=\"text-align: right;\">\n      <th></th>\n      <th>쇼핑몰 이름</th>\n      <th>카테고리</th>\n      <th>상품명</th>\n      <th>가격</th>\n      <th>상품주소</th>\n      <th>파일 이름</th>\n      <th>class</th>\n      <th>feature</th>\n    </tr>\n  </thead>\n  <tbody>\n    <tr>\n      <th>0</th>\n      <td>spao</td>\n      <td>아우터</td>\n      <td>크롭 봄버 점퍼_SPJJB49G91</td>\n      <td>59,900</td>\n      <td>http://www.spao.com/product/크롭-봄버-점퍼spjjb49g91...</td>\n      <td>spao1.jpg</td>\n      <td>NaN</td>\n      <td>NaN</td>\n    </tr>\n    <tr>\n      <th>1</th>\n      <td>spao</td>\n      <td>아우터</td>\n      <td>틸든 케이블 가디건_SPCKB49G31</td>\n      <td>39,900</td>\n      <td>http://www.spao.com/product/틸든-케이블-가디건spckb49g...</td>\n      <td>spao2.jpg</td>\n      <td>NaN</td>\n      <td>NaN</td>\n    </tr>\n    <tr>\n      <th>2</th>\n      <td>spao</td>\n      <td>아우터</td>\n      <td>골지 루즈핏 가디건_SPCKB49W01</td>\n      <td>39,900</td>\n      <td>http://www.spao.com/product/포우먼-골지-루즈핏-가디건spck...</td>\n      <td>spao3.jpg</td>\n      <td>NaN</td>\n      <td>NaN</td>\n    </tr>\n    <tr>\n      <th>3</th>\n      <td>spao</td>\n      <td>아우터</td>\n      <td>소프트 하찌 오버핏 베스트_SPKVB49W02</td>\n      <td>35,900</td>\n      <td>http://www.spao.com/product/포우먼-소프트-하찌-오버핏-베스트...</td>\n      <td>spao4.jpg</td>\n      <td>NaN</td>\n      <td>NaN</td>\n    </tr>\n    <tr>\n      <th>4</th>\n      <td>spao</td>\n      <td>아우터</td>\n      <td>브이넥 스웨터 베스트_SPKVB49W01</td>\n      <td>29,900</td>\n      <td>http://www.spao.com/product/포우먼-브이넥-스웨터-베스트spk...</td>\n      <td>spao5.jpg</td>\n      <td>NaN</td>\n      <td>NaN</td>\n    </tr>\n  </tbody>\n</table>\n</div>"
     },
     "execution_count": 9,
     "metadata": {},
     "output_type": "execute_result"
    }
   ],
   "source": [
    "df = pd.read_csv('media/image_meta_data.csv')\n",
    "df['class'] = np.NaN\n",
    "df['feature'] = np.NaN\n",
    "df.head(5)"
   ],
   "metadata": {
    "collapsed": false,
    "pycharm": {
     "name": "#%%\n"
    }
   }
  },
  {
   "cell_type": "code",
   "execution_count": 10,
   "outputs": [],
   "source": [
    "def img_analysis(img_path):\n",
    "    img = cv2.imread(img_path)\n",
    "    img = cv2.cvtColor(img, cv2.COLOR_BGR2RGB)\n",
    "\n",
    "    segmentationed_img: PIL.Image.Image = executor_segmentation.execute(image=img)\n",
    "\n",
    "    classification_label: str = executor_classification.execute(image=segmentationed_img)\n",
    "    fv = executor_extract.execute(image=segmentationed_img)\n",
    "\n",
    "    return classification_label, fv"
   ],
   "metadata": {
    "collapsed": false,
    "pycharm": {
     "name": "#%%\n"
    }
   }
  },
  {
   "cell_type": "code",
   "execution_count": 39,
   "outputs": [
    {
     "name": "stdout",
     "output_type": "stream",
     "text": [
      "1/1 [==============================] - 0s 141ms/step\n",
      "0 media\\recommend_image\\spao1.jpg\n",
      "오피스룩 [0.         0.01794693 0.03533994 ... 0.         0.         0.02775439]\n",
      "==========\n",
      "1/1 [==============================] - 0s 110ms/step\n",
      "1 media\\recommend_image\\spao2.jpg\n",
      "트레디셔널 [0. 0. 0. ... 0. 0. 0.]\n",
      "==========\n",
      "1/1 [==============================] - 0s 110ms/step\n",
      "2 media\\recommend_image\\spao3.jpg\n",
      "트레디셔널 [0.         0.01550928 0.         ... 0.         0.         0.05407573]\n",
      "==========\n"
     ]
    }
   ],
   "source": [
    "root_path = os.path.join('media', 'recommend_image')\n",
    "\n",
    "for each in df.head(3).iterrows():\n",
    "    idx = each[0]\n",
    "    file_name = each[1]['파일 이름']\n",
    "    file_path = os.path.join(root_path, file_name)\n",
    "\n",
    "    label, fv = img_analysis(file_path)\n",
    "    # df.iloc[idx, 6] = label\n",
    "    df.iloc[idx, 7] = fv.tobytes()\n",
    "\n",
    "    print(idx, file_path)\n",
    "    print(label, fv)\n",
    "    print('='*10)"
   ],
   "metadata": {
    "collapsed": false,
    "pycharm": {
     "name": "#%%\n"
    }
   }
  },
  {
   "cell_type": "code",
   "execution_count": 46,
   "outputs": [
    {
     "data": {
      "text/plain": "array([0.        , 0.01550928, 0.        , ..., 0.        , 0.        ,\n       0.05407573], dtype=float32)"
     },
     "execution_count": 46,
     "metadata": {},
     "output_type": "execute_result"
    }
   ],
   "source": [
    "np.frombuffer(df.head(3)['feature'][2], dtype=np.float32)"
   ],
   "metadata": {
    "collapsed": false,
    "pycharm": {
     "name": "#%%\n"
    }
   }
  }
 ],
 "metadata": {
  "kernelspec": {
   "display_name": "Python 3",
   "language": "python",
   "name": "python3"
  },
  "language_info": {
   "codemirror_mode": {
    "name": "ipython",
    "version": 2
   },
   "file_extension": ".py",
   "mimetype": "text/x-python",
   "name": "python",
   "nbconvert_exporter": "python",
   "pygments_lexer": "ipython2",
   "version": "2.7.6"
  }
 },
 "nbformat": 4,
 "nbformat_minor": 0
}